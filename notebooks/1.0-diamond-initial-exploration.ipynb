{
 "cells": [
  {
   "cell_type": "code",
   "execution_count": 43,
   "metadata": {},
   "outputs": [],
   "source": [
    "# importing required libraries\n",
    "import pandas as pd\n",
    "import plotly\n",
    "\n",
    "from pathlib import Path\n",
    "from pandas_profiling import ProfileReport"
   ]
  },
  {
   "cell_type": "code",
   "execution_count": 44,
   "metadata": {},
   "outputs": [
    {
     "data": {
      "text/plain": [
       "PosixPath('/home/calkikhunt/Workspace/diamond_color_quality_prediction/data/raw')"
      ]
     },
     "execution_count": 44,
     "metadata": {},
     "output_type": "execute_result"
    }
   ],
   "source": [
    "# Raw Data Directory\n",
    "raw_product_dir = Path.cwd().parent / \"data\" / \"raw\"\n",
    "raw_product_dir"
   ]
  },
  {
   "cell_type": "code",
   "execution_count": 45,
   "metadata": {},
   "outputs": [],
   "source": [
    "# Wrong file format exception class\n",
    "class WrongFileFormat(Exception):\n",
    "    \"\"\"Wrong file format exception class\"\"\"\n",
    "    pass"
   ]
  },
  {
   "cell_type": "code",
   "execution_count": 50,
   "metadata": {},
   "outputs": [],
   "source": [
    "# Create a data frame that consists of the whole dataset \n",
    "# and store it in a final CSV file\n",
    "dfs = []\n",
    "for file in raw_product_dir.glob(\"*\"):\n",
    "    if file.suffix == \".csv\":\n",
    "        temp_df = pd.read_csv(file, encoding=\"utf-8\")\n",
    "        dfs.append(temp_df)\n",
    "\n",
    "    elif file.suffix == \".xlsx\":\n",
    "        temp_df = pd.read_excel(file)\n",
    "        temp_df.columns = temp_df.columns.astype(str)\n",
    "        dfs.append(temp_df)\n",
    "\n",
    "    else:\n",
    "        raise WrongFileFormat(\"Sorry, The wrong file format was provided \",\n",
    "            \"which is not being handled.\")\n",
    "\n",
    "df = pd.concat(dfs, ignore_index=True)"
   ]
  },
  {
   "cell_type": "code",
   "execution_count": 58,
   "metadata": {},
   "outputs": [],
   "source": [
    "# Prepare final dataset file which combine entire dataset\n",
    "df.to_csv(\"./../data/raw/final_data.csv\")"
   ]
  },
  {
   "cell_type": "code",
   "execution_count": 59,
   "metadata": {},
   "outputs": [
    {
     "name": "stderr",
     "output_type": "stream",
     "text": [
      "Summarize dataset:  99%|█████████▉| 1066/1073 [24:34<06:54, 59.21s/it, Get scatter matrix]                "
     ]
    }
   ],
   "source": [
    "pf = ProfileReport(df)\n",
    "pf.to_widgets()"
   ]
  },
  {
   "cell_type": "code",
   "execution_count": null,
   "metadata": {},
   "outputs": [],
   "source": []
  }
 ],
 "metadata": {
  "interpreter": {
   "hash": "31f2aee4e71d21fbe5cf8b01ff0e069b9275f58929596ceb00d14d90e3e16cd6"
  },
  "kernelspec": {
   "display_name": "Python 3 (ipykernel)",
   "language": "python",
   "name": "python3"
  },
  "language_info": {
   "codemirror_mode": {
    "name": "ipython",
    "version": 3
   },
   "file_extension": ".py",
   "mimetype": "text/x-python",
   "name": "python",
   "nbconvert_exporter": "python",
   "pygments_lexer": "ipython3",
   "version": "3.8.10"
  }
 },
 "nbformat": 4,
 "nbformat_minor": 2
}
